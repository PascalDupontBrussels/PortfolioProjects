{
 "cells": [
  {
   "cell_type": "code",
   "execution_count": 1,
   "id": "275d1f8a",
   "metadata": {},
   "outputs": [],
   "source": [
    "# import libraries\n",
    "\n",
    "from bs4 import BeautifulSoup\n",
    "import requests\n",
    "import time\n",
    "import datetime\n",
    "import smtplib"
   ]
  },
  {
   "cell_type": "code",
   "execution_count": 4,
   "id": "47513fb7",
   "metadata": {},
   "outputs": [
    {
     "name": "stdout",
     "output_type": "stream",
     "text": [
      "\n",
      "                  I Found This Humerus Graphic Novelty Sarcastic Funny T Shirt\n",
      "                 \n",
      "\n",
      "                    $16.99\n",
      "                   \n"
     ]
    }
   ],
   "source": [
    "# Connect to Website and pull in data\n",
    "\n",
    "URL = 'https://www.amazon.com/dp/B00O841O4U/ref=sspa_dk_detail_0?pd_rd_i=B00O841O4U&pd_rd_w=UxDx7&content-id=amzn1.sym.f9710d1d-8ae7-460f-b546-5e6e42fbe82a&pf_rd_p=f9710d1d-8ae7-460f-b546-5e6e42fbe82a&pf_rd_r=TZNYG6YCATCNJAMF73TC&pd_rd_wg=Slc6s&pd_rd_r=d487ebe5-d378-4ffb-b4a1-a239120b9244&s=apparel&spLa=ZW5jcnlwdGVkUXVhbGlmaWVyPUFITU1WSkRIWEVZOEwmZW5jcnlwdGVkSWQ9QTA3NjY1NTcxUVRGVTNONkNXTkxJJmVuY3J5cHRlZEFkSWQ9QTA2MDkzMTlGME5EQkJTV0pDMVImd2lkZ2V0TmFtZT1zcF9kZXRhaWwyJmFjdGlvbj1jbGlja1JlZGlyZWN0JmRvTm90TG9nQ2xpY2s9dHJ1ZQ&th=1&psc=1'\n",
    "\n",
    "headers = {\"User-Agent\": \"Mozilla/5.0 (Windows NT 10.0; Win64; x64) AppleWebKit/537.36 (KHTML, like Gecko) Chrome/78.0.3904.108 Safari/537.36\", \"Accept-Encoding\":\"gzip, deflate\", \"Accept\":\"text/html,application/xhtml+xml,application/xml;q=0.9,*/*;q=0.8\", \"DNT\":\"1\",\"Connection\":\"close\", \"Upgrade-Insecure-Requests\":\"1\"}\n",
    "\n",
    "\n",
    "page = requests.get(URL, headers=headers)\n",
    "\n",
    "soup1 = BeautifulSoup(page.content, \"lxml\")\n",
    "\n",
    "soup2 = BeautifulSoup(soup1.prettify(), \"lxml\")\n",
    "\n",
    "title = soup2.find(id=\"productTitle\").get_text()\n",
    "\n",
    "price = soup2.find('span', class_=\"a-offscreen\").get_text()\n",
    "\n",
    "\n",
    "\n",
    "print(title)\n",
    "print(price)\n",
    "\n",
    "\n",
    "\n",
    "\n"
   ]
  },
  {
   "cell_type": "code",
   "execution_count": 5,
   "id": "41ce7828",
   "metadata": {},
   "outputs": [
    {
     "name": "stdout",
     "output_type": "stream",
     "text": [
      "I Found This Humerus Graphic Novelty Sarcastic Funny T Shirt\n",
      "16.99\n"
     ]
    }
   ],
   "source": [
    "# Clean up the data a little bit\n",
    "\n",
    "price = price.strip() [1:]\n",
    "title = title.strip()\n",
    "\n",
    "print(title)\n",
    "print(price)"
   ]
  },
  {
   "cell_type": "code",
   "execution_count": 61,
   "id": "f5d73327",
   "metadata": {},
   "outputs": [
    {
     "name": "stdout",
     "output_type": "stream",
     "text": [
      "2022-06-21\n"
     ]
    }
   ],
   "source": [
    "# Create a Timestamp for your output to track when data was collected\n",
    "\n",
    "import datetime\n",
    "\n",
    "\n",
    "today = datetime.date.today()\n",
    "print(today)"
   ]
  },
  {
   "cell_type": "code",
   "execution_count": 62,
   "id": "5e594c6e",
   "metadata": {},
   "outputs": [],
   "source": [
    "# Create CSV and write headers and data into the file\n",
    "\n",
    "import csv\n",
    "\n",
    "\n",
    "header = ['Title', 'Price','Date']\n",
    "data = [title, price, today]\n",
    "\n",
    "#with open ('AmazonDataset.csv', 'w', newline='', encoding='UTF8') as f:\n",
    "     #writer = csv.writer(f)\n",
    "     #writer.writerow(header)\n",
    "     #writer.writerow(data)\n",
    "\n"
   ]
  },
  {
   "cell_type": "code",
   "execution_count": 69,
   "id": "b04e05ce",
   "metadata": {
    "collapsed": true
   },
   "outputs": [
    {
     "name": "stdout",
     "output_type": "stream",
     "text": [
     ]
    }
   ],
   "source": [
    "import pandas as pd\n",
    "df = pd.read_csv(r'C:\\Users\\asus\\AmazonDataset.csv')\n",
    "print(df)"
   ]
  },
  {
   "cell_type": "code",
   "execution_count": 68,
   "id": "ce80ac4e",
   "metadata": {},
   "outputs": [],
   "source": [
    "#Now we are appending data to the csv\n",
    "\n",
    "with open ('AmazonDataset.csv', 'a+', newline='', encoding='UTF8') as f:\n",
    "     writer = csv.writer(f)\n",
    "     writer.writerow(data)\n",
    "        \n",
    "        "
   ]
  },
  {
   "cell_type": "code",
   "execution_count": 4,
   "id": "dd0244c3",
   "metadata": {},
   "outputs": [],
   "source": [
    "#Combine all of the above code into one function\n",
    "\n",
    "def check_price():\n",
    "    URL = 'https://www.amazon.com/dp/B00O841O4U/ref=sspa_dk_detail_0?pd_rd_i=B00O841O4U&pd_rd_w=UxDx7&content-id=amzn1.sym.f9710d1d-8ae7-460f-b546-5e6e42fbe82a&pf_rd_p=f9710d1d-8ae7-460f-b546-5e6e42fbe82a&pf_rd_r=TZNYG6YCATCNJAMF73TC&pd_rd_wg=Slc6s&pd_rd_r=d487ebe5-d378-4ffb-b4a1-a239120b9244&s=apparel&spLa=ZW5jcnlwdGVkUXVhbGlmaWVyPUFITU1WSkRIWEVZOEwmZW5jcnlwdGVkSWQ9QTA3NjY1NTcxUVRGVTNONkNXTkxJJmVuY3J5cHRlZEFkSWQ9QTA2MDkzMTlGME5EQkJTV0pDMVImd2lkZ2V0TmFtZT1zcF9kZXRhaWwyJmFjdGlvbj1jbGlja1JlZGlyZWN0JmRvTm90TG9nQ2xpY2s9dHJ1ZQ&th=1&psc=1'\n",
    "\n",
    "    headers = {\"User-Agent\": \"Mozilla/5.0 (Windows NT 10.0; Win64; x64) AppleWebKit/537.36 (KHTML, like Gecko) Chrome/78.0.3904.108 Safari/537.36\", \"Accept-Encoding\":\"gzip, deflate\", \"Accept\":\"text/html,application/xhtml+xml,application/xml;q=0.9,*/*;q=0.8\", \"DNT\":\"1\",\"Connection\":\"close\", \"Upgrade-Insecure-Requests\":\"1\"}\n",
    "\n",
    "\n",
    "    page = requests.get(URL, headers=headers)\n",
    "\n",
    "    soup1 = BeautifulSoup(page.content, \"lxml\")\n",
    "\n",
    "    soup2 = BeautifulSoup(soup1.prettify(), \"lxml\")\n",
    "\n",
    "    title = soup2.find(id='productTitle').get_text()\n",
    "\n",
    "    price = soup2.find('span', class_=\"a-offscreen\").get_text()\n",
    "    \n",
    "    price = price.strip() [1:]\n",
    "    title = title.strip()\n",
    "   \n",
    "\n",
    "    import datetime\n",
    "    today = datetime.date.today()\n",
    "    \n",
    "    import csv\n",
    "    header = ['Title', 'Price','Date']\n",
    "    data = [title, price, today]\n",
    "    \n",
    "    with open ('AmazonDataset.csv', 'a+', newline='', encoding='UTF8') as f:\n",
    "        writer = csv.writer(f)\n",
    "        writer.writerow(data)\n",
    "    \n",
    "    #if(price < 17):\n",
    "       #send_mail()"
   ]
  },
  {
   "cell_type": "code",
   "execution_count": null,
   "id": "7969db98",
   "metadata": {},
   "outputs": [],
   "source": [
    "# Runs check_price after a set time and inputs data into your CSV\n",
    "\n",
    "while(True): \n",
    "    check_price()\n",
    "    time.sleep(86400)"
   ]
  },
  {
   "cell_type": "code",
   "execution_count": 6,
   "id": "dec5e4f4",
   "metadata": {
    "collapsed": true
   },
   "outputs": [
    {
     "name": "stdout",
     "output_type": "stream",
     "text": [
     
     ]
    }
   ],
   "source": [
    "import pandas as pd\n",
    "df = pd.read_csv(r'C:\\Users\\asus\\AmazonDataset.csv')\n",
    "print(df)"
   ]
  },
  {
   "cell_type": "code",
   "execution_count": 2,
   "id": "fe9fcdb4",
   "metadata": {},
   "outputs": [],
   "source": [
    "# Send myself an email when a price hits below a certain level. \n",
    "\n",
    "def send_mail():\n",
    "    server = smtplib.SMTP_SSL('smtp.gmail.com',465)\n",
    "    server.ehlo()\n",
    "    #server.starttls()\n",
    "    server.ehlo()\n",
    "    server.login('pascald0501@gmail.com','xxxxxxxxxx)\n",
    "    \n",
    "    subject = \"The Shirt you want is below $17! Now is your chance to buy!\"\n",
    "    body = \"Pascal, This is the moment we have been waiting for. Link here: https://www.amazon.com/dp/B00O841O4U/ref=sspa_dk_detail_0?pd_rd_i=B00O841O4U&pd_rd_w=UxDx7&content-id=amzn1.sym.f9710d1d-8ae7-460f-b546-5e6e42fbe82a&pf_rd_p=f9710d1d-8ae7-460f-b546-5e6e42fbe82a&pf_rd_r=TZNYG6YCATCNJAMF73TC&pd_rd_wg=Slc6s&pd_rd_r=d487ebe5-d378-4ffb-b4a1-a239120b9244&s=apparel&spLa=ZW5jcnlwdGVkUXVhbGlmaWVyPUFITU1WSkRIWEVZOEwmZW5jcnlwdGVkSWQ9QTA3NjY1NTcxUVRGVTNONkNXTkxJJmVuY3J5cHRlZEFkSWQ9QTA2MDkzMTlGME5EQkJTV0pDMVImd2lkZ2V0TmFtZT1zcF9kZXRhaWwyJmFjdGlvbj1jbGlja1JlZGlyZWN0JmRvTm90TG9nQ2xpY2s9dHJ1ZQ&th=1&psc=1'\n",
    "\"\n",
    "   \n",
    "    msg = f\"Subject: {subject}\\n\\n{body}\"\n",
    "    \n",
    "    server.sendmail(\n",
    "        'pascald0501@gmail.com',\n",
    "        msg\n",
    "     \n",
    "    )"
   ]
  },
  {
   "cell_type": "code",
   "execution_count": null,
   "id": "18b2d14d",
   "metadata": {},
   "outputs": [],
   "source": []
  }
 ],
 "metadata": {
  "kernelspec": {
   "display_name": "Python 3 (ipykernel)",
   "language": "python",
   "name": "python3"
  },
  "language_info": {
   "codemirror_mode": {
    "name": "ipython",
    "version": 3
   },
   "file_extension": ".py",
   "mimetype": "text/x-python",
   "name": "python",
   "nbconvert_exporter": "python",
   "pygments_lexer": "ipython3",
   "version": "3.9.12"
  }
 },
 "nbformat": 4,
 "nbformat_minor": 5
}
